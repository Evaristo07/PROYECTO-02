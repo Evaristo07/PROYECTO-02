{
  "nbformat": 4,
  "nbformat_minor": 0,
  "metadata": {
    "colab": {
      "name": "PROYECTO-02-EVARISTO-CALDERON-CORRALES.ipynb",
      "provenance": [],
      "collapsed_sections": [
        "rDMOY6cG2BRL",
        "Si-Px5M52u69"
      ]
    },
    "kernelspec": {
      "name": "python3",
      "display_name": "Python 3"
    },
    "language_info": {
      "name": "python"
    }
  },
  "cells": [
    {
      "cell_type": "markdown",
      "source": [
        "# 1. Basico: Carga de Datos"
      ],
      "metadata": {
        "id": "rDMOY6cG2BRL"
      }
    },
    {
      "cell_type": "markdown",
      "source": [
        "Importamos las librerias"
      ],
      "metadata": {
        "id": "y_ZRmJiN5WRp"
      }
    },
    {
      "cell_type": "code",
      "execution_count": null,
      "metadata": {
        "id": "LXCMXSzHgR4B"
      },
      "outputs": [],
      "source": [
        "import numpy as np\n",
        "import pandas as pd\n",
        "import datetime as dt"
      ]
    },
    {
      "cell_type": "code",
      "source": [
        "data = pd.read_csv('/content/OnlineRetail.csv', sep=';')\n",
        "data"
      ],
      "metadata": {
        "id": "fWFyWvgXgqc4"
      },
      "execution_count": null,
      "outputs": []
    },
    {
      "cell_type": "markdown",
      "source": [
        "\n",
        "\n",
        "*  Al ejecutar tu analisis exploratorio, describe el numero de columnas y filas que encuentras, en cuales encuentras valores nulos o perdidos y cuantos, Para los valores perdidos numericos:"
      ],
      "metadata": {
        "id": "s4tOkQZB5fsW"
      }
    },
    {
      "cell_type": "markdown",
      "source": [
        "Numero de filas y columnas"
      ],
      "metadata": {
        "id": "-Hf2geWR57Ol"
      }
    },
    {
      "cell_type": "code",
      "source": [
        "print('El numero de filas es: ', data.shape[0])\n",
        "print('El numero de columnas es: ', data.shape[1])"
      ],
      "metadata": {
        "id": "OoAuwfpBkp6r"
      },
      "execution_count": null,
      "outputs": []
    },
    {
      "cell_type": "markdown",
      "source": [
        "Valores nulos o perdidos"
      ],
      "metadata": {
        "id": "RA4W81OK7Axn"
      }
    },
    {
      "cell_type": "code",
      "source": [
        "data.isna().sum()"
      ],
      "metadata": {
        "id": "Mu3XUkQ_lUI1"
      },
      "execution_count": null,
      "outputs": []
    },
    {
      "cell_type": "markdown",
      "source": [
        "\n",
        "\n",
        "*   **Elimina todos los valores perdidos utilizando .dropna**"
      ],
      "metadata": {
        "id": "aChj7Ar6lnBN"
      }
    },
    {
      "cell_type": "code",
      "source": [
        "data.dropna(inplace=True)\n",
        "print('se elimino correctamente')"
      ],
      "metadata": {
        "id": "NO2EO9cBlodf"
      },
      "execution_count": null,
      "outputs": []
    },
    {
      "cell_type": "markdown",
      "source": [
        "\n",
        "\n",
        "*   **Calcula la media, maximo, minimo y desviacion estandar de las columnas con valores numericos.**"
      ],
      "metadata": {
        "id": "IvsniM2I7Hza"
      }
    },
    {
      "cell_type": "code",
      "source": [
        "data.describe()"
      ],
      "metadata": {
        "id": "HkB2PbQCl9qr"
      },
      "execution_count": null,
      "outputs": []
    },
    {
      "cell_type": "markdown",
      "source": [
        "\n",
        "\n",
        "*   **Si encuentras un valor que no tenga logica, es decir valores negativos en columnas donde no deberian haber, eliminalos.**"
      ],
      "metadata": {
        "id": "fnB-QfUh7gdp"
      }
    },
    {
      "cell_type": "code",
      "source": [
        "print('La cantidad minima nunca debe ser menor a cero')\n",
        "data = data[data.Quantity >= 0]\n",
        "data.describe()\n"
      ],
      "metadata": {
        "id": "o1ufuLdMmSSg"
      },
      "execution_count": null,
      "outputs": []
    },
    {
      "cell_type": "markdown",
      "source": [
        "*   **Calcula cuantos valores unicos encontraste dentro de cada columna despues de limpiar los datos."
      ],
      "metadata": {
        "id": "mi48z80u8E8C"
      }
    },
    {
      "cell_type": "code",
      "source": [
        "data.nunique()"
      ],
      "metadata": {
        "id": "wcuNiBBnm5AM"
      },
      "execution_count": null,
      "outputs": []
    },
    {
      "cell_type": "markdown",
      "source": [
        "# 2. Intermedio: RFM"
      ],
      "metadata": {
        "id": "Si-Px5M52u69"
      }
    },
    {
      "cell_type": "markdown",
      "source": [
        "*   **Calcula la Recenty (Reciente), Frecuency (Frecuencia) y Monetary value (Valor monetario)**"
      ],
      "metadata": {
        "id": "EP89TdZTnZzQ"
      }
    },
    {
      "cell_type": "code",
      "source": [
        "#Aplicando el tipo de dato a la columna para que se pueda trabajar con las fechas\n",
        "data['InvoiceDate'] = pd.to_datetime(data['InvoiceDate'])"
      ],
      "metadata": {
        "id": "g7odd9IqnYqW"
      },
      "execution_count": null,
      "outputs": []
    },
    {
      "cell_type": "markdown",
      "source": [
        "Recenty"
      ],
      "metadata": {
        "id": "6YVrjjTg8wV9"
      }
    },
    {
      "cell_type": "code",
      "source": [
        "df_recency = data.groupby(by='CustomerID', as_index=False)['InvoiceDate'].max() \n",
        "df_recency.columns = ['CustomerID', 'LastPurchaseDate']\n",
        "recent_date = df_recency['LastPurchaseDate'].max()\n",
        "df_recency['Recency'] = df_recency['LastPurchaseDate'].apply(lambda x: (recent_date - x).days)\n",
        "df_recency.head() #Mostramos resultados."
      ],
      "metadata": {
        "id": "dpzfrgeuow0d"
      },
      "execution_count": null,
      "outputs": []
    },
    {
      "cell_type": "markdown",
      "source": [
        "Frecuency"
      ],
      "metadata": {
        "id": "YUtuGvqO8zcF"
      }
    },
    {
      "cell_type": "code",
      "source": [
        "frequency_df = data.drop_duplicates().groupby(by=['CustomerID'], as_index=False)['InvoiceDate'].count() #Agrupamos por CustomerID sin duplicados\n",
        "frequency_df.columns = ['CustomerID', 'Frequency'] #Nombramos columnas.\n",
        "frequency_df.head(10)"
      ],
      "metadata": {
        "id": "k9NHTmJFqVgi"
      },
      "execution_count": null,
      "outputs": []
    },
    {
      "cell_type": "markdown",
      "source": [
        "Monetary Value"
      ],
      "metadata": {
        "id": "OkBvJKqJ83Ds"
      }
    },
    {
      "cell_type": "code",
      "source": [
        "data['Total'] = data['UnitPrice'] * data['Quantity'] # Calculamos totales multiplicando precio unitario * cantidad\n",
        "monetary_df = data.groupby(by = 'CustomerID', as_index=False)['Total'].sum() #Agrupamos por CustomerID\n",
        "monetary_df.columns = ['CustomerID', 'Monetary'] #Creamos columnas\n",
        "monetary_df.head()"
      ],
      "metadata": {
        "id": "WG_5e36mr5KX"
      },
      "execution_count": null,
      "outputs": []
    },
    {
      "cell_type": "markdown",
      "source": [
        "*   **Incluye estos valores en una tabla**"
      ],
      "metadata": {
        "id": "XJjKp__S4fnP"
      }
    },
    {
      "cell_type": "code",
      "source": [
        "print('Tabla de Valores')\n",
        "dataframe = df_recency.merge(frequency_df, on='CustomerID')\n",
        "df_rfm = dataframe.merge(monetary_df, on='CustomerID').drop(\n",
        "    columns='LastPurchaseDate')\n",
        "df_rfm.head()"
      ],
      "metadata": {
        "id": "JvW3S5j3s8k_"
      },
      "execution_count": null,
      "outputs": []
    },
    {
      "cell_type": "markdown",
      "source": [
        "*  **Calcula los puntajes o scores con un rango de 1 a 5.**"
      ],
      "metadata": {
        "id": "QPLJq2HCv3tg"
      }
    },
    {
      "cell_type": "code",
      "source": [
        "df_rfm['r_quartile'] = pd.qcut(df_rfm['Recency'], 5, ['5','4','3','2','1'])\n",
        "df_rfm['f_quartile'] = pd.qcut(df_rfm['Frequency'], 5, ['1','2','3','4','5'])\n",
        "df_rfm['m_quartile'] = pd.qcut(df_rfm['Monetary'], 5, ['1','2','3','4','5'])\n",
        "display(df_rfm)"
      ],
      "metadata": {
        "id": "gA0Pdtiltuf0"
      },
      "execution_count": null,
      "outputs": []
    }
  ]
}